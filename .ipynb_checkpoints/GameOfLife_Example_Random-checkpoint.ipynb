{
 "cells": [
  {
   "cell_type": "markdown",
   "id": "7f4ed133-b4b9-4f38-8942-371e19b7cdbd",
   "metadata": {},
   "source": [
    "<table>\n",
    "<tr><td><img style=\"height: 150px;\" src=\"images/geo_hydro1.jpg\"></td>\n",
    "<td bgcolor=\"#FFFFFF\">\n",
    "    <p style=\"font-size: xx-large; font-weight: 900; line-height: 100%\">pyGameOfLife</p>\n",
    "    <p style=\"font-size: large; color: rgba(0,0,0,0.5);\"><b style=color:red;>Game</b>Of<b style=color:red;>Life</b></p>\n",
    "    <p style=\"font-size: large; color: rgba(0,0,0,0.5);\">Georg Kaufmann</p>\n",
    "    </td>\n",
    "<td><img style=\"height: 150px;\" src=\"images/pyGameOfLife.gif\"></td>\n",
    "</tr>\n",
    "</table>\n",
    "\n",
    "----\n",
    "# `pyGameOfLife`\n",
    "\n",
    "Conway's Game of Life, the famous cellular automaton of [John Horton Conway](https://de.wikipedia.org/wiki/John_Horton_Conway) (1932-2020)."
   ]
  },
  {
   "cell_type": "code",
   "execution_count": 1,
   "id": "e20c14b1-617d-41ab-bf2d-0ffb58e7b3b7",
   "metadata": {
    "tags": []
   },
   "outputs": [],
   "source": [
    "import numpy as np\n",
    "import matplotlib.pyplot as plt\n",
    "import matplotlib.colors\n",
    "import libGameOfLife"
   ]
  },
  {
   "cell_type": "markdown",
   "id": "d010d5df-7ed1-40f9-800d-0c6bad5d22c4",
   "metadata": {},
   "source": [
    "----\n",
    "# Initial random field\n",
    "\n",
    "We use a **random field** of dead (`0`)  and living (`1`) cells as starting point.\n",
    "\n",
    "We therefore need to call a **random generator** first, then create a sequence\n",
    "of `0` and `1`, probably shifted towards the dead cells ...\n",
    "\n",
    "As initial step, we call the `default_rng()` function from the `numpy.random` packge."
   ]
  },
  {
   "cell_type": "code",
   "execution_count": 5,
   "id": "5268f058-4a22-4b93-a503-6a63e1c264db",
   "metadata": {
    "tags": []
   },
   "outputs": [
    {
     "name": "stdout",
     "output_type": "stream",
     "text": [
      "Generator(PCG64)\n"
     ]
    }
   ],
   "source": [
    "rng = np.random.default_rng()\n",
    "print(rng)"
   ]
  },
  {
   "cell_type": "markdown",
   "id": "d3616d01-1082-4fa3-9b96-09785c5518ec",
   "metadata": {},
   "source": [
    "The default random number generator used is called`PCG64`, documented in the article\n",
    "[Neill and Melissa, 2014](https://www.cs.hmc.edu/tr/hmc-cs-2014-0905.pdf).\n",
    "\n",
    "We also define an **initial seed**, which we use to get **reproducible** random numbers\n",
    "in individual calls. If you comment out the second call to `np.random.default_rng`,\n",
    "you will get different sets of random numbers ..."
   ]
  },
  {
   "cell_type": "code",
   "execution_count": 11,
   "id": "e83ba457-8b9d-4d97-868f-ba9a8dfd0c22",
   "metadata": {
    "tags": []
   },
   "outputs": [
    {
     "name": "stdout",
     "output_type": "stream",
     "text": [
      "[[0.43065918 0.35309631 0.58987359]\n",
      " [0.55298536 0.23738086 0.66820161]\n",
      " [0.70523567 0.34471783 0.56337581]]\n",
      "[[0.43065918 0.35309631 0.58987359]\n",
      " [0.55298536 0.23738086 0.66820161]\n",
      " [0.70523567 0.34471783 0.56337581]]\n"
     ]
    }
   ],
   "source": [
    "N=3;M=3\n",
    "rng = np.random.default_rng(seed=20220217)\n",
    "setOfRandomNumbers = rng.random((N,M))\n",
    "print(setOfRandomNumbers)\n",
    "\n",
    "rng = np.random.default_rng(seed=20220217)\n",
    "setOfRandomNumbers = rng.random((N,M))\n",
    "print(setOfRandomNumbers)"
   ]
  },
  {
   "cell_type": "markdown",
   "id": "5c5cc147-2cd7-4c13-81de-b18c11fd91e4",
   "metadata": {},
   "source": [
    "We use the `choice()` function from the `numpy.random` library to fix the returned values,\n",
    "in our case to `0` and `1`."
   ]
  },
  {
   "cell_type": "code",
   "execution_count": 26,
   "id": "99444028-777f-4d56-b209-d4fb860251df",
   "metadata": {
    "tags": []
   },
   "outputs": [
    {
     "name": "stdout",
     "output_type": "stream",
     "text": [
      "[[1 0 1 0 1 1 1]\n",
      " [1 0 0 0 1 0 1]\n",
      " [0 0 0 1 0 0 1]\n",
      " [1 0 0 0 1 0 0]\n",
      " [1 0 1 1 0 0 0]\n",
      " [0 1 1 0 0 1 1]\n",
      " [0 1 1 0 0 1 0]]\n",
      "No of all cells:  49 \n",
      "No of living cells:  22\n"
     ]
    }
   ],
   "source": [
    "N=7;M=7\n",
    "rng = np.random.default_rng(seed=20220217)\n",
    "setOfRandomNumbers = rng.choice([0,1],(N,M))\n",
    "print(setOfRandomNumbers)\n",
    "print('No of all cells: ',N*M,'\\nNo of living cells: ',np.sum(setOfRandomNumbers))"
   ]
  },
  {
   "cell_type": "markdown",
   "id": "80ea92c3-d4e8-4e86-b596-29e9d56c0493",
   "metadata": {},
   "source": [
    "As we intent to have more dead than living cells, we use the `p` keyword to add a non-uniform probability for\n",
    "the distribution, in our case roughly 80% dead cells and 20% living cells:"
   ]
  },
  {
   "cell_type": "code",
   "execution_count": 35,
   "id": "cff9b39f-4652-40b4-92c4-66b2bdecbe9d",
   "metadata": {
    "tags": []
   },
   "outputs": [
    {
     "name": "stdout",
     "output_type": "stream",
     "text": [
      "[[0 0 0 0 0 0 0]\n",
      " [0 0 0 0 0 0 0]\n",
      " [0 0 0 0 0 0 0]\n",
      " [0 0 0 0 0 0 0]\n",
      " [0 0 1 0 1 0 0]\n",
      " [1 0 0 0 0 0 1]\n",
      " [0 0 0 0 0 0 0]]\n",
      "No of all cells:  49 \n",
      "No of living cells:  4\n"
     ]
    }
   ],
   "source": [
    "N=7;M=7\n",
    "rng = np.random.default_rng(seed=20220217)\n",
    "setOfRandomNumbers = rng.choice([0,1],(N,M),p=[0.8,0.2])\n",
    "print(setOfRandomNumbers)\n",
    "print('No of all cells: ',N*M,'\\nNo of living cells: ',np.sum(setOfRandomNumbers))"
   ]
  },
  {
   "cell_type": "markdown",
   "id": "dd63f0b7-edab-4c5c-9e1b-ef77b19170ef",
   "metadata": {
    "tags": []
   },
   "source": [
    "Ok, we are done with understanding the random-number generation.\n",
    "\n",
    "Let's create a function for the random-number field to add:"
   ]
  },
  {
   "cell_type": "code",
   "execution_count": 36,
   "id": "83ebe9f4-bc8c-41d3-adee-c52fe3836814",
   "metadata": {
    "tags": []
   },
   "outputs": [],
   "source": [
    "def addRandomField(grid,p=[0.8,0.2],seed=20220217):\n",
    "    \"\"\"\n",
    "    Conway's Game of Life\n",
    "    fill the grid with a random distribution of 0 an 1\n",
    "    \"\"\"\n",
    "    # define object as list of strings\n",
    "    rng = np.random.default_rng(seed=20220217)\n",
    "    grid = rng.choice([0,1],(grid.shape),p=[0.8,0.2])\n",
    "    return grid"
   ]
  },
  {
   "cell_type": "code",
   "execution_count": 37,
   "id": "8377b06d-7db8-483a-b800-80090aa1aea0",
   "metadata": {
    "tags": []
   },
   "outputs": [
    {
     "data": {
      "image/png": "[encoded data removed]",
      "text/plain": [
       "<Figure size 640x480 with 1 Axes>"
      ]
     },
     "metadata": {},
     "output_type": "display_data"
    }
   ],
   "source": [
    "N,M = 80,80\n",
    "itime=0\n",
    "grid = libGameOfLife.gridInit(N,M)\n",
    "grid = addRandomField(grid)\n",
    "libGameOfLife.gridPlot(grid,itime,plot=True)"
   ]
  },
  {
   "cell_type": "code",
   "execution_count": 38,
   "id": "ee302c52-d15f-4bc8-9d82-9912215a6891",
   "metadata": {
    "tags": []
   },
   "outputs": [
    {
     "name": "stdout",
     "output_type": "stream",
     "text": [
      "0  1  2  3  4  5  6  7  8  9  10  11  12  13  14  15  16  17  18  19  20  21  22  23  24  25  26  27  28  29  30  31  32  33  34  35  36  37  38  39  40  41  42  43  44  45  46  47  48  49  50  51  52  53  54  55  56  57  58  59  60  61  62  63  64  65  66  67  68  69  70  71  72  73  74  75  76  77  78  79  80  81  82  83  84  85  86  87  88  89  90  91  92  93  94  95  96  97  98  99  100  "
     ]
    }
   ],
   "source": [
    "N,M = 80,80\n",
    "itime=0\n",
    "grid = libGameOfLife.gridInit(N,M)\n",
    "grid = addRandomField(grid,p=[0.9,0.1])\n",
    "libGameOfLife.gridPlot(grid,itime)\n",
    "for itime in range(101):\n",
    "    libGameOfLife.gridPlot(grid,itime,size=(10,5))\n",
    "    grid = libGameOfLife.gridUpdate(grid)\n",
    "    print(itime,\" \",end=\"\")"
   ]
  },
  {
   "cell_type": "markdown",
   "id": "16be2b96-a721-4292-aa9b-51659b3b809f",
   "metadata": {},
   "source": [
    "----"
   ]
  }
 ],
 "metadata": {
  "kernelspec": {
   "display_name": "Python 3 (ipykernel)",
   "language": "python",
   "name": "python3"
  },
  "language_info": {
   "codemirror_mode": {
    "name": "ipython",
    "version": 3
   },
   "file_extension": ".py",
   "mimetype": "text/x-python",
   "name": "python",
   "nbconvert_exporter": "python",
   "pygments_lexer": "ipython3",
   "version": "3.11.3"
  }
 },
 "nbformat": 4,
 "nbformat_minor": 5
}
