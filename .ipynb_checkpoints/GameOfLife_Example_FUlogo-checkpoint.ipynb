{
 "cells": [
  {
   "cell_type": "markdown",
   "id": "7f4ed133-b4b9-4f38-8942-371e19b7cdbd",
   "metadata": {},
   "source": [
    "<table>\n",
    "<tr><td><img style=\"height: 150px;\" src=\"images/geo_hydro1.jpg\"></td>\n",
    "<td bgcolor=\"#FFFFFF\">\n",
    "    <p style=\"font-size: xx-large; font-weight: 900; line-height: 100%\">pyGameOfLife</p>\n",
    "    <p style=\"font-size: large; color: rgba(0,0,0,0.5);\"><b style=color:red;>Game</b>Of<b style=color:red;>Life</b></p>\n",
    "    <p style=\"font-size: large; color: rgba(0,0,0,0.5);\">Georg Kaufmann</p>\n",
    "    </td>\n",
    "<td><img style=\"height: 150px;\" src=\"images/pyGameOfLife.gif\"></td>\n",
    "</tr>\n",
    "</table>\n",
    "\n",
    "----\n",
    "# `pyGameOfLife`\n",
    "\n",
    "Conway's Game of Life, the famous cellular automaton of [John Horton Conway](https://de.wikipedia.org/wiki/John_Horton_Conway) (1932-2020)."
   ]
  },
  {
   "cell_type": "code",
   "execution_count": 5,
   "id": "e20c14b1-617d-41ab-bf2d-0ffb58e7b3b7",
   "metadata": {
    "tags": []
   },
   "outputs": [],
   "source": [
    "import numpy as np\n",
    "import matplotlib.pyplot as plt\n",
    "import matplotlib.colors\n",
    "import libGameOfLife"
   ]
  },
  {
   "cell_type": "markdown",
   "id": "d010d5df-7ed1-40f9-800d-0c6bad5d22c4",
   "metadata": {},
   "source": [
    "----\n",
    "# The FU logo ..."
   ]
  },
  {
   "cell_type": "code",
   "execution_count": 6,
   "id": "83ebe9f4-bc8c-41d3-adee-c52fe3836814",
   "metadata": {
    "tags": []
   },
   "outputs": [],
   "source": [
    "def addFUlogo(xoffset,yoffset,grid):\n",
    "    \"\"\"\n",
    "    Conway's Game of Life\n",
    "    define a text as string pattern\n",
    "    and fit string pattern into 2D integer grid\n",
    "    \"\"\"\n",
    "    # define object as list of strings\n",
    "    Logo = [\n",
    "    ['0000000000000000000000'],\n",
    "    ['0011111100011000011000'],\n",
    "    ['0011000000011000011000'],\n",
    "    ['0011000000011000011000'],\n",
    "    ['0011110000011000011000'],\n",
    "    ['0011000000011000011000'],\n",
    "    ['0011000000011000011000'],\n",
    "    ['0011000000011111111000']]\n",
    "    # get no of strings (nrows) and characters in string (ncols)\n",
    "    nrows = len(Logo)\n",
    "    ncols = len(Logo[0][0])\n",
    "    GoLobject = np.zeros([nrows,ncols],dtype='int')\n",
    "    #print(GoLobject.shape)\n",
    "    # loop over strings and characters, fill into 2D array\n",
    "    irow=0\n",
    "    for line in Logo:\n",
    "        icol=0\n",
    "        for letter in line[0]:\n",
    "            #print(letter,' ',end='')\n",
    "            #print(irow,icol)\n",
    "            GoLobject[irow,icol] = letter\n",
    "            icol += 1\n",
    "        irow += 1\n",
    "    # pass 2D array into larger grid\n",
    "    grid[xoffset:xoffset+GoLobject.shape[0], yoffset:yoffset+GoLobject.shape[1]] = GoLobject\n",
    "    return grid"
   ]
  },
  {
   "cell_type": "code",
   "execution_count": 7,
   "id": "8377b06d-7db8-483a-b800-80090aa1aea0",
   "metadata": {
    "tags": []
   },
   "outputs": [
    {
     "data": {
      "image/png": "[encoded data removed]",
      "text/plain": [
       "<Figure size 640x480 with 1 Axes>"
      ]
     },
     "metadata": {},
     "output_type": "display_data"
    }
   ],
   "source": [
    "N,M = 30,40\n",
    "itime=0\n",
    "grid = libGameOfLife.gridInit(N,M)\n",
    "grid = addFUlogo(9,9,grid)\n",
    "libGameOfLife.gridPlot(grid,itime,plot=True)"
   ]
  },
  {
   "cell_type": "code",
   "execution_count": 8,
   "id": "ee302c52-d15f-4bc8-9d82-9912215a6891",
   "metadata": {
    "tags": []
   },
   "outputs": [
    {
     "name": "stdout",
     "output_type": "stream",
     "text": [
      "0  1  2  3  4  5  6  7  8  9  10  11  12  13  14  15  16  17  18  19  20  21  22  23  24  25  26  27  28  29  30  31  32  33  34  35  36  37  38  39  "
     ]
    }
   ],
   "source": [
    "N,M = 30,40\n",
    "itime=0\n",
    "grid = libGameOfLife.gridInit(N,M)\n",
    "grid = addFUlogo(9,9,grid)\n",
    "libGameOfLife.gridPlot(grid,itime)\n",
    "for itime in range(40):\n",
    "    libGameOfLife.gridPlot(grid,itime,size=(10,5))\n",
    "    grid = libGameOfLife.gridUpdate(grid)\n",
    "    print(itime,\" \",end=\"\")"
   ]
  },
  {
   "cell_type": "markdown",
   "id": "16be2b96-a721-4292-aa9b-51659b3b809f",
   "metadata": {},
   "source": [
    "----"
   ]
  }
 ],
 "metadata": {
  "kernelspec": {
   "display_name": "Python 3 (ipykernel)",
   "language": "python",
   "name": "python3"
  },
  "language_info": {
   "codemirror_mode": {
    "name": "ipython",
    "version": 3
   },
   "file_extension": ".py",
   "mimetype": "text/x-python",
   "name": "python",
   "nbconvert_exporter": "python",
   "pygments_lexer": "ipython3",
   "version": "3.11.3"
  }
 },
 "nbformat": 4,
 "nbformat_minor": 5
}
