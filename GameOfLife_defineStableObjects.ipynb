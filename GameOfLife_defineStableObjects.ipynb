{
 "cells": [
  {
   "cell_type": "markdown",
   "id": "6f055484-ab99-4b46-ab24-7f8989399773",
   "metadata": {},
   "source": [
    "<table>\n",
    "<tr><td><img style=\"height: 150px;\" src=\"images/geo_hydro1.jpg\"></td>\n",
    "<td bgcolor=\"#FFFFFF\">\n",
    "    <p style=\"font-size: xx-large; font-weight: 900; line-height: 100%\">pyGameOfLife</p>\n",
    "    <p style=\"font-size: large; color: rgba(0,0,0,0.5);\"><b style=color:red;>Game</b>Of<b style=color:red;>Life</b></p>\n",
    "    <p style=\"font-size: large; color: rgba(0,0,0,0.5);\">Georg Kaufmann</p>\n",
    "    </td>\n",
    "<td><img style=\"height: 150px;\" src=\"images/pyGameOfLife.png\"></td>\n",
    "</tr>\n",
    "</table>\n",
    "\n",
    "----\n",
    "# `pyGameOfLife`\n",
    "\n",
    "Conway's Game of Life, the famous cellular automaton of [John Horton Conway](https://de.wikipedia.org/wiki/John_Horton_Conway) (1932-2020)."
   ]
  },
  {
   "cell_type": "code",
   "execution_count": 1,
   "id": "50bd9ae9-8364-42a7-afc3-8fc00fe6f93a",
   "metadata": {
    "tags": []
   },
   "outputs": [],
   "source": [
    "import numpy as np\n",
    "import matplotlib.pyplot as plt\n",
    "import matplotlib.colors\n",
    "import libGameOfLife"
   ]
  },
  {
   "cell_type": "markdown",
   "id": "b937272e-e866-44f6-9e86-58a3c3fde147",
   "metadata": {},
   "source": [
    "----\n",
    "## Single Objects\n",
    "We define **simple objects** by assigning patterns of **living cells** (marker set to one)."
   ]
  },
  {
   "cell_type": "markdown",
   "id": "79d5e11d-fe57-40d1-85b3-92b1a9d6d350",
   "metadata": {
    "tags": []
   },
   "source": [
    "----\n",
    "## Static objects\n",
    "The first group of objects are **static objects**, neither do they change their form, nor do they move.\n",
    "\n",
    "### Block"
   ]
  },
  {
   "cell_type": "code",
   "execution_count": 2,
   "id": "03c58c17-8543-4bd5-9cda-569762832f29",
   "metadata": {
    "tags": []
   },
   "outputs": [],
   "source": [
    "def addBlock(xoffset,yoffset,grid):\n",
    "    \"\"\"\n",
    "    Conway's Game of Life\n",
    "    Block object (stable)\n",
    "    11\n",
    "    11\n",
    "    input:\n",
    "     xoffset,yoffset - offset positions of object\n",
    "     grid            - 2D grid field \n",
    "    output:\n",
    "     grid            - updated 2D grid field\n",
    "    use:\n",
    "     grid = libGameOfLife.addBlock(xoffset,yoffset,grid)\n",
    "    \"\"\"\n",
    "    GoLobject = np.array([[1,1],[1,1]])\n",
    "    grid[xoffset:xoffset+GoLobject.shape[0], yoffset:yoffset+GoLobject.shape[1]] = GoLobject\n",
    "    return grid"
   ]
  },
  {
   "cell_type": "code",
   "execution_count": 3,
   "id": "bbf079d0-17cf-48e2-a1d7-8f6398801016",
   "metadata": {
    "tags": []
   },
   "outputs": [
    {
     "data": {
      "image/png": "[encoded data removed]",
      "text/plain": [
       "<Figure size 640x480 with 1 Axes>"
      ]
     },
     "metadata": {},
     "output_type": "display_data"
    }
   ],
   "source": [
    "N,M = 8,8\n",
    "itime=0\n",
    "grid = libGameOfLife.gridInit(N,M)\n",
    "grid = addBlock(3,3,grid)\n",
    "libGameOfLife.gridPlot(grid,itime,plot=True)"
   ]
  },
  {
   "cell_type": "markdown",
   "id": "3041d6db-d5eb-4c22-a0fa-61c01c43901c",
   "metadata": {},
   "source": [
    "### Beehive"
   ]
  },
  {
   "cell_type": "code",
   "execution_count": 4,
   "id": "ea338f2f",
   "metadata": {
    "tags": []
   },
   "outputs": [],
   "source": [
    "def addBeehive(xoffset,yoffset,grid):\n",
    "    \"\"\"\n",
    "    Conway's Game of Life\n",
    "    Beehive object (stable)\n",
    "    010\n",
    "    101\n",
    "    101\n",
    "    010\n",
    "    input:\n",
    "     xoffset,yoffset - offset positions of object\n",
    "     grid            - 2D grid field \n",
    "    output:\n",
    "     grid            - updated 2D grid field\n",
    "    use:\n",
    "     grid = libGameOfLife.addBlock(xoffset,yoffset,grid)\n",
    "    \"\"\"\n",
    "    GoLobject = np.array([[0,1,0],[1,0,1],[1,0,1],[0,1,0]])\n",
    "    grid[xoffset:xoffset+GoLobject.shape[0], yoffset:yoffset+GoLobject.shape[1]] = GoLobject\n",
    "    return grid"
   ]
  },
  {
   "cell_type": "code",
   "execution_count": 5,
   "id": "f656e6d8-762b-4a42-9bc1-e1b533030e75",
   "metadata": {
    "tags": []
   },
   "outputs": [
    {
     "data": {
      "image/png": "[encoded data removed]",
      "text/plain": [
       "<Figure size 640x480 with 1 Axes>"
      ]
     },
     "metadata": {},
     "output_type": "display_data"
    }
   ],
   "source": [
    "N,M = 8,8\n",
    "itime=0\n",
    "grid = libGameOfLife.gridInit(N,M)\n",
    "grid = addBeehive(2,2,grid)\n",
    "libGameOfLife.gridPlot(grid,itime,plot=True)"
   ]
  },
  {
   "cell_type": "markdown",
   "id": "33f6408e-4f31-4aa2-a2c0-c0553d436c0d",
   "metadata": {},
   "source": [
    "### Barge"
   ]
  },
  {
   "cell_type": "code",
   "execution_count": 6,
   "id": "a0dafb52-8cdf-490d-93c9-5e492f26c606",
   "metadata": {
    "tags": []
   },
   "outputs": [],
   "source": [
    "def addBarge(xoffset,yoffset,grid):\n",
    "    \"\"\"\n",
    "    Conway's Game of Life\n",
    "    Barge object (stable)\n",
    "    0010\n",
    "    0101\n",
    "    1010\n",
    "    0100\n",
    "    input:\n",
    "     xoffset,yoffset - offset positions of object\n",
    "     grid            - 2D grid field \n",
    "    output:\n",
    "     grid            - updated 2D grid field\n",
    "    use:\n",
    "     grid = libGameOfLife.addBlock(xoffset,yoffset,grid)\n",
    "    \"\"\"\n",
    "    GoLobject = np.array([[0,0,1,0],[0,1,0,1],[1,0,1,0],[0,1,0,0]])\n",
    "    grid[xoffset:xoffset+GoLobject.shape[0], yoffset:yoffset+GoLobject.shape[1]] = GoLobject\n",
    "    return grid"
   ]
  },
  {
   "cell_type": "code",
   "execution_count": 7,
   "id": "486e109e-5c9b-47d2-89e9-266509147c86",
   "metadata": {
    "tags": []
   },
   "outputs": [
    {
     "data": {
      "image/png": "[encoded data removed]",
      "text/plain": [
       "<Figure size 640x480 with 1 Axes>"
      ]
     },
     "metadata": {},
     "output_type": "display_data"
    }
   ],
   "source": [
    "N,M = 8,8\n",
    "itime=0\n",
    "grid = libGameOfLife.gridInit(N,M)\n",
    "grid = addBarge(2,2,grid)\n",
    "libGameOfLife.gridPlot(grid,itime,plot=True)"
   ]
  },
  {
   "cell_type": "markdown",
   "id": "d86c06bf-98b8-4340-ae22-3238b3806a55",
   "metadata": {},
   "source": [
    "### Eater"
   ]
  },
  {
   "cell_type": "code",
   "execution_count": 8,
   "id": "06c422cc-1566-4ecc-96cb-ea62c316476f",
   "metadata": {
    "tags": []
   },
   "outputs": [],
   "source": [
    "def addEater(xoffset,yoffset,grid):\n",
    "    \"\"\"\n",
    "    Conway's Game of Life\n",
    "    Eater object (stable)\n",
    "    1100\n",
    "    1010\n",
    "    0010\n",
    "    0010\n",
    "    0011\n",
    "    input:\n",
    "     xoffset,yoffset - offset positions of object\n",
    "     grid            - 2D grid field \n",
    "    output:\n",
    "     grid            - updated 2D grid field\n",
    "    use:\n",
    "     grid = libGameOfLife.addBlock(xoffset,yoffset,grid)\n",
    "    \"\"\"\n",
    "    GoLobject = np.array([[1,1,0,0],[1,0,1,0],[0,0,1,0],[0,0,1,1]])\n",
    "    grid[xoffset:xoffset+GoLobject.shape[0], yoffset:yoffset+GoLobject.shape[1]] = GoLobject\n",
    "    return grid"
   ]
  },
  {
   "cell_type": "code",
   "execution_count": 9,
   "id": "39cf3676-fe6b-47cd-9c21-c4d1544024f7",
   "metadata": {
    "tags": []
   },
   "outputs": [
    {
     "data": {
      "image/png": "[encoded data removed]",
      "text/plain": [
       "<Figure size 640x480 with 1 Axes>"
      ]
     },
     "metadata": {},
     "output_type": "display_data"
    }
   ],
   "source": [
    "N,M = 8,8\n",
    "itime=0\n",
    "grid = libGameOfLife.gridInit(N,M)\n",
    "grid = addEater(2,2,grid)\n",
    "libGameOfLife.gridPlot(grid,itime,plot=True)"
   ]
  },
  {
   "cell_type": "markdown",
   "id": "d95f9b68-45fb-429f-80a0-bcf1bc59324b",
   "metadata": {},
   "source": [
    "----\n",
    "## Larger group\n",
    "We group the objects in a larger domain ..."
   ]
  },
  {
   "cell_type": "code",
   "execution_count": 10,
   "id": "61f8950e",
   "metadata": {
    "tags": []
   },
   "outputs": [
    {
     "data": {
      "image/png": "[encoded data removed]",
      "text/plain": [
       "<Figure size 640x480 with 1 Axes>"
      ]
     },
     "metadata": {},
     "output_type": "display_data"
    }
   ],
   "source": [
    "N,M = 21,30\n",
    "itime=0\n",
    "grid = libGameOfLife.gridInit(N,M)\n",
    "grid = addBlock(3,3,grid)\n",
    "grid = addBeehive(8,5,grid)\n",
    "grid = addBarge(4,18,grid)\n",
    "grid = addEater(10,15,grid)\n",
    "libGameOfLife.gridPlot(grid,itime,plot=True)"
   ]
  },
  {
   "cell_type": "markdown",
   "id": "b9675f6a-79d8-4d10-b0d8-27c61d65e55a",
   "metadata": {},
   "source": [
    "----\n",
    "## Animation\n",
    "Next, we prove that these objects are stationary ..."
   ]
  },
  {
   "cell_type": "code",
   "execution_count": 11,
   "id": "60eadaf0-8f98-4781-bea9-a64e5b7c923a",
   "metadata": {
    "tags": []
   },
   "outputs": [
    {
     "name": "stdout",
     "output_type": "stream",
     "text": [
      "0  1  2  3  4  5  6  7  8  9  "
     ]
    }
   ],
   "source": [
    "N,M = 21,30\n",
    "itime=0\n",
    "grid = libGameOfLife.gridInit(N,M)\n",
    "grid = libGameOfLife.addBlock(3,3,grid)\n",
    "grid = libGameOfLife.addBeehive(8,5,grid)\n",
    "grid = libGameOfLife.addBarge(4,18,grid)\n",
    "grid = libGameOfLife.addEater(10,15,grid)\n",
    "\n",
    "for itime in range(10):\n",
    "    libGameOfLife.gridPlot(grid,itime,size=(10,5))\n",
    "    grid = libGameOfLife.gridUpdate(grid)\n",
    "    print(itime,\" \",end=\"\")"
   ]
  },
  {
   "cell_type": "markdown",
   "id": "09939151-3eef-482b-aecd-6a6f276c0ed8",
   "metadata": {},
   "source": [
    "----"
   ]
  }
 ],
 "metadata": {
  "kernelspec": {
   "display_name": "Python 3 (ipykernel)",
   "language": "python",
   "name": "python3"
  },
  "language_info": {
   "codemirror_mode": {
    "name": "ipython",
    "version": 3
   },
   "file_extension": ".py",
   "mimetype": "text/x-python",
   "name": "python",
   "nbconvert_exporter": "python",
   "pygments_lexer": "ipython3",
   "version": "3.11.3"
  }
 },
 "nbformat": 4,
 "nbformat_minor": 5
}
