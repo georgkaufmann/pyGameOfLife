{
 "cells": [
  {
   "cell_type": "markdown",
   "id": "383108c6",
   "metadata": {},
   "source": [
    "<table>\n",
    "<tr><td><img style=\"height: 150px;\" src=\"images/geo_hydro1.jpg\"></td>\n",
    "<td bgcolor=\"#FFFFFF\">\n",
    "    <p style=\"font-size: xx-large; font-weight: 900; line-height: 100%\">pyGameOfLife</p>\n",
    "    <p style=\"font-size: large; color: rgba(0,0,0,0.5);\"><b style=color:red;>Game</b>of<b style=color:red;>Life</b>er</p>\n",
    "    <p style=\"font-size: large; color: rgba(0,0,0,0.5);\">Georg Kaufmann</p>\n",
    "    </td>\n",
    "<td><img style=\"height: 150px;\" src=\"images/pyGameOfLife.png\"></td>\n",
    "</tr>\n",
    "</table>\n",
    "\n",
    "----\n",
    "# `pyGameOfLife`\n",
    "\n",
    "Conway's Game of Life, the famous cellular automaton of [John Horton Conway](https://de.wikipedia.org/wiki/John_Horton_Conway) (1932-2020).\n",
    "\n",
    "In this sequence of notebook, we recreate the Conway's Game of Life setup with python functions."
   ]
  },
  {
   "cell_type": "markdown",
   "id": "fea533e9",
   "metadata": {},
   "source": [
    "----\n",
    "## Contents\n",
    "\n",
    "- [Introduction](GameOfLife_intro.ipynb)\n",
    "\n",
    "- Setup\n",
    "    - [Grid layout](GameOfLife_setGrid.ipynb)\n",
    "    - [Stable objects](GameOfLife_defineStableObjects.ipynb)\n",
    "    - [Oscillation objects](GameOfLife_defineOscillationObjects.ipynb)\n",
    "    - [Moving objects](GameOfLife_defineMovingObjects.ipynb)\n",
    "\n",
    "- Examples\n",
    "    - [Logo](GameOfLife_Example_FUlogo.ipynb)\n",
    "    - [Random field](GameOfLife_Example_Random.ipynb)\n",
    "    - [Gosper-Glider](GameOfLife_Example_GosperGlider.ipynb)\n",
    "\n",
    "    \n",
    "- Other\n",
    "    - Libraries\n",
    "        - [libGameOfLife](GameOfLife_libGameOfLife.ipynb)\n",
    "    "
   ]
  },
  {
   "cell_type": "markdown",
   "id": "b9ee8777",
   "metadata": {},
   "source": [
    "----"
   ]
  }
 ],
 "metadata": {
  "kernelspec": {
   "display_name": "Python 3 (ipykernel)",
   "language": "python",
   "name": "python3"
  },
  "language_info": {
   "codemirror_mode": {
    "name": "ipython",
    "version": 3
   },
   "file_extension": ".py",
   "mimetype": "text/x-python",
   "name": "python",
   "nbconvert_exporter": "python",
   "pygments_lexer": "ipython3",
   "version": "3.11.3"
  }
 },
 "nbformat": 4,
 "nbformat_minor": 5
}
