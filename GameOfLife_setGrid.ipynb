{
 "cells": [
  {
   "cell_type": "markdown",
   "id": "6f055484-ab99-4b46-ab24-7f8989399773",
   "metadata": {},
   "source": [
    "<table>\n",
    "<tr><td><img style=\"height: 150px;\" src=\"images/geo_hydro1.jpg\"></td>\n",
    "<td bgcolor=\"#FFFFFF\">\n",
    "    <p style=\"font-size: xx-large; font-weight: 900; line-height: 100%\">pyGameOfLife</p>\n",
    "    <p style=\"font-size: large; color: rgba(0,0,0,0.5);\"><b style=color:red;>Game</b>Of<b style=color:red;>Life</b></p>\n",
    "    <p style=\"font-size: large; color: rgba(0,0,0,0.5);\">Georg Kaufmann</p>\n",
    "    </td>\n",
    "<td><img style=\"height: 150px;\" src=\"images/pyGameOfLife.png\"></td>\n",
    "</tr>\n",
    "</table>\n",
    "\n",
    "----\n",
    "# `pyGameOfLife`\n",
    "\n",
    "Conway's Game of Life, the famous cellular automaton of [John Horton Conway](https://de.wikipedia.org/wiki/John_Horton_Conway) (1932-2020)."
   ]
  },
  {
   "cell_type": "code",
   "execution_count": 1,
   "id": "50bd9ae9-8364-42a7-afc3-8fc00fe6f93a",
   "metadata": {
    "tags": []
   },
   "outputs": [],
   "source": [
    "import numpy as np\n",
    "import matplotlib.pyplot as plt\n",
    "import matplotlib.colors"
   ]
  },
  {
   "cell_type": "markdown",
   "id": "b937272e-e866-44f6-9e86-58a3c3fde147",
   "metadata": {},
   "source": [
    "----\n",
    "## Initial grid\n",
    "We start defining a rectangular grid with $N$ by $M$ nodal points.\n",
    "The grid is initialized with `zeros`, marking **dead cells**."
   ]
  },
  {
   "cell_type": "code",
   "execution_count": 2,
   "id": "fa54496e-0d0d-4595-9b44-e504171ed42f",
   "metadata": {
    "tags": []
   },
   "outputs": [],
   "source": [
    "def gridInit(N,M):\n",
    "    \"\"\"\n",
    "    Conway's Game of Life\n",
    "    initial state, only dead cells only\n",
    "    input:\n",
    "     N,M       - grid dimensions\n",
    "    output:\n",
    "     grid      - 2D grid field initialised with zeros (dead cells)\n",
    "    use:\n",
    "     grid = libGameOfLife.gridInit(N,M)\n",
    "    \"\"\"\n",
    "    grid = np.zeros(N*M).reshape(N,M)\n",
    "    return grid"
   ]
  },
  {
   "cell_type": "markdown",
   "id": "befc3631-ce5f-43b0-9450-6b303dbe0b14",
   "metadata": {},
   "source": [
    "----\n",
    "## Plotting grid\n",
    "Next, we define a function for plotting the grid, with two colors (dead and living cells).\n",
    "An iteration counter `itime` is used to identify the time step."
   ]
  },
  {
   "cell_type": "code",
   "execution_count": 9,
   "id": "1ec2807b-666a-42d9-b3b6-83d73e5b0ef1",
   "metadata": {
    "tags": []
   },
   "outputs": [],
   "source": [
    "def gridPlot(grid,itime,size=(6,6),plot=False):\n",
    "    \"\"\"\n",
    "    function plots grid, uses own color table\n",
    "    input:\n",
    "     grid      - NxM grid\n",
    "     itime     - time counter\n",
    "    output:\n",
    "     (to figure)\n",
    "    use:\n",
    "     libGameOfLife.gridPlot(grid,itime)\n",
    "    \"\"\"\n",
    "    filename = \"work/GoL-\"+f\"{itime:04}.png\"\n",
    "    colors = [( 0.9 , 0.9 , 0.9 ),( 1 , 0 , 0 )]\n",
    "    myCmap = matplotlib.colors.ListedColormap(colors)\n",
    "    plt.figure()\n",
    "    plt.title(str(itime))\n",
    "    plt.imshow(grid,cmap=myCmap)\n",
    "    plt.axis('off')\n",
    "    #plt.savefig(filename)\n",
    "    plt.tight_layout()\n",
    "    if (not plot):\n",
    "        plt.close()\n",
    "    return"
   ]
  },
  {
   "cell_type": "markdown",
   "id": "37afdcfd-fa86-4a60-9622-99bf7bc51690",
   "metadata": {},
   "source": [
    "As test reveals a boring image:"
   ]
  },
  {
   "cell_type": "code",
   "execution_count": 10,
   "id": "834b425c-b774-4660-9891-4663af487961",
   "metadata": {
    "tags": []
   },
   "outputs": [
    {
     "data": {
      "image/png": "[encoded data removed]",
      "text/plain": [
       "<Figure size 640x480 with 1 Axes>"
      ]
     },
     "metadata": {},
     "output_type": "display_data"
    }
   ],
   "source": [
    "N,M = 5,5\n",
    "itime = 0\n",
    "grid = gridInit(N,M)\n",
    "gridPlot(grid,itime,plot=True)"
   ]
  },
  {
   "cell_type": "markdown",
   "id": "a4927182-b763-4267-a929-b48948f689cf",
   "metadata": {},
   "source": [
    "We move the two functions into our library `libGameOfLife.py`..."
   ]
  },
  {
   "cell_type": "code",
   "execution_count": null,
   "id": "03c58c17-8543-4bd5-9cda-569762832f29",
   "metadata": {
    "tags": []
   },
   "outputs": [],
   "source": [
    "def addBlock(xoffset,yoffset,grid):\n",
    "    \"\"\"\n",
    "    Conway's Game of Life\n",
    "    block object (stable)\n",
    "    11\n",
    "    11\n",
    "    input:\n",
    "     xoffset,yoffset - offset positions of object\n",
    "     grid            - 2D grid field \n",
    "    output:\n",
    "     grid            - updated 2D grid field\n",
    "    use:\n",
    "     grid = libGameOfLife.addBlock(xoffset,yoffset,grid)\n",
    "    \"\"\"\n",
    "    GoLobject = np.array([[1,1],[1,1]])\n",
    "    grid[xoffset:xoffset+GoLobject.shape[0], yoffset:yoffset+GoLobject.shape[1]] = GoLobject\n",
    "    return grid\n",
    "\n",
    "def addBlinker(xoffset,yoffset,grid):\n",
    "    \"\"\"\n",
    "    Conway's Game of Life\n",
    "    blinker object (oscillator)\n",
    "    111\n",
    "    input:\n",
    "     xoffset,yoffset - offset positions of object\n",
    "     grid            - 2D grid field \n",
    "    output:\n",
    "     grid            - updated 2D grid field\n",
    "    use:\n",
    "     grid = libGameOfLife.addBlinker(xoffset,yoffset,grid)\n",
    "    \"\"\"\n",
    "    GoLobject = np.array([[1,1,1]])\n",
    "    grid[xoffset:xoffset+GoLobject.shape[0], yoffset:yoffset+GoLobject.shape[1]] = GoLobject\n",
    "    return grid\n",
    "\n",
    "def addBipole(xoffset,yoffset,grid):\n",
    "    \"\"\"\n",
    "    Conway's Game of Life\n",
    "    add bipole object (oscillator)\n",
    "    1100\n",
    "    1000\n",
    "    0001\n",
    "    0011\n",
    "    input:\n",
    "     xoffset,yoffset - offset positions of object\n",
    "     grid            - 2D grid field \n",
    "    output:\n",
    "     grid            - updated 2D grid field\n",
    "    use:\n",
    "     grid = libGameOfLife.addBipole(xoffset,yoffset,grid)\n",
    "    \"\"\"\n",
    "    GoLobject = np.array([[1,1,0,0],\n",
    "                          [1,0,0,0],\n",
    "                          [0,0,0,1],\n",
    "                          [0,0,1,1]])\n",
    "    grid[xoffset:xoffset+GoLobject.shape[0], yoffset:yoffset+GoLobject.shape[1]] = GoLobject\n",
    "    return grid\n",
    "\n",
    "def addGlider(xoffset,yoffset,grid):\n",
    "    \"\"\"\n",
    "    Conway's Game of Life\n",
    "    glider object (moving)\n",
    "    010\n",
    "    001\n",
    "    111\n",
    "    input:\n",
    "     xoffset,yoffset - offset positions of object\n",
    "     grid            - 2D grid field \n",
    "    output:\n",
    "     grid            - updated 2D grid field\n",
    "    use:\n",
    "     grid = libGameOfLife.addGlider(xoffset,yoffset,grid)\n",
    "    \"\"\"\n",
    "    GoLobject = np.array([[0,1,0],\n",
    "                          [0,0,1],\n",
    "                          [1,1,1]])\n",
    "    grid[xoffset:xoffset+GoLobject.shape[0], yoffset:yoffset+GoLobject.shape[1]] = GoLobject\n",
    "    return grid"
   ]
  },
  {
   "cell_type": "code",
   "execution_count": null,
   "id": "6d84ed7c-0138-41e5-bc9b-9dc14aab221d",
   "metadata": {
    "tags": []
   },
   "outputs": [],
   "source": [
    "grid = gridInit(11,15)\n",
    "#grid = addBlinker(4,4,grid)\n",
    "#grid = addBipole(4,4,grid)\n",
    "grid = addGlider(2,2,grid)\n",
    "print(grid)"
   ]
  },
  {
   "cell_type": "code",
   "execution_count": null,
   "id": "666e01be-4e21-4024-9c5c-ea492db087a6",
   "metadata": {
    "tags": []
   },
   "outputs": [],
   "source": [
    "plt.imshow(grid)"
   ]
  },
  {
   "cell_type": "raw",
   "id": "3920c12a-7049-40ae-a60e-9d2c5ced0288",
   "metadata": {
    "tags": []
   },
   "source": [
    "def gridUpdate(grid):\n",
    "    # update 2D grid\n",
    "    N = grid.shape[0]\n",
    "    M = grid.shape[1]\n",
    "    # first, make a copy of the old grid\n",
    "    newgrid = grid.copy()\n",
    "    # then, apply Conway's rules to each cell\n",
    "    for i in range(1,N-1):\n",
    "        for j in range(1,M-1):\n",
    "            total = 0\n",
    "            # top row of neighbors\n",
    "            total += grid[i-1,j-1]\n",
    "            total += grid[i-1,j]\n",
    "            total += grid[i-1,j+1]\n",
    "            # middle row of neighbors\n",
    "            total += grid[i,j-1]\n",
    "            total += grid[i,j+1]\n",
    "            # bottom row of neighbors\n",
    "            total += grid[i+1,j-1]\n",
    "            total += grid[i+1,j]\n",
    "            total += grid[i+1,j+1]\n",
    "            # fate of living cell\n",
    "            if grid[i,j]  == 1: \n",
    "                if (total < 2) or (total > 3): \n",
    "                    newgrid[i,j] = 0 \n",
    "            # fate of dead cell\n",
    "            else: \n",
    "                if total == 3: \n",
    "                    newgrid[i,j] = 1\n",
    "    grid[:] = newgrid[:]\n",
    "    return grid"
   ]
  },
  {
   "cell_type": "code",
   "execution_count": null,
   "id": "afbb055a-2732-470e-8729-c2c06a596990",
   "metadata": {
    "tags": []
   },
   "outputs": [],
   "source": [
    "def gridUpdate(grid):\n",
    "    # update 2D grid\n",
    "    N = grid.shape[0]\n",
    "    M = grid.shape[1]\n",
    "    # first, make a copy of the old grid\n",
    "    newgrid = grid.copy()\n",
    "    # then, apply Conway's rules to each cell\n",
    "    for i in range(N):\n",
    "        for j in range(M):\n",
    "            total = 0\n",
    "            # top row of neighbors\n",
    "            total += np.roll(grid,(1,1),(0,1))[i,j]   #grid[i-1,j-1]\n",
    "            total += np.roll(grid,(1,0),(0,1))[i,j]   #grid[i-1,j]\n",
    "            total += np.roll(grid,(1,-1),(0,1))[i,j]  #grid[i-1,j+1]\n",
    "            # middle row of neighbors\n",
    "            total += np.roll(grid,(0,1),(0,1))[i,j]   #grid[i,j-1]\n",
    "            total += np.roll(grid,(0,-1),(0,1))[i,j]  #grid[i,j+1]\n",
    "            # bottom row of neighbors\n",
    "            total += np.roll(grid,(-1,1),(0,1))[i,j]  #grid[i+1,j-1]\n",
    "            total += np.roll(grid,(-1,0),(0,1))[i,j]  #grid[i+1,j]\n",
    "            total += np.roll(grid,(-1,-1),(0,1))[i,j] #grid[i+1,j+1]\n",
    "            # fate of living cell\n",
    "            if grid[i,j]  == 1: \n",
    "                if (total < 2) or (total > 3): \n",
    "                    newgrid[i,j] = 0 \n",
    "            # fate of dead cell\n",
    "            else: \n",
    "                if total == 3: \n",
    "                    newgrid[i,j] = 1\n",
    "    grid[:] = newgrid[:]\n",
    "    return grid"
   ]
  },
  {
   "cell_type": "code",
   "execution_count": null,
   "id": "a4344189-ce5c-402b-abf5-44f0224d7f92",
   "metadata": {
    "tags": []
   },
   "outputs": [],
   "source": []
  },
  {
   "cell_type": "code",
   "execution_count": null,
   "id": "36582a8f-ebfa-41d0-b75d-314b15c23034",
   "metadata": {
    "tags": []
   },
   "outputs": [],
   "source": [
    "def gridPlot(grid,itime,size=(6,6)):\n",
    "    \"\"\"\n",
    "    function plots grid, uses own color table\n",
    "    input:\n",
    "     grid      - NxM grid\n",
    "     itime     - time counter\n",
    "    output:\n",
    "     (to figure)\n",
    "    use:\n",
    "     libGameOfLife.gridPlot(grid,itime)\n",
    "    \"\"\"\n",
    "    filename = \"work/GoL-\"+f\"{itime:04}.png\"\n",
    "    colors = [( 0.9 , 0.9 , 0.9 ),( 1 , 0 , 0 )]\n",
    "    myCmap = matplotlib.colors.ListedColormap(colors)\n",
    "    plt.figure()\n",
    "    plt.title(str(itime))\n",
    "    plt.imshow(grid,cmap=myCmap)\n",
    "    plt.axis('off')\n",
    "    plt.savefig(filename)\n",
    "    plt.tight_layout()\n",
    "    plt.close()\n",
    "    return"
   ]
  },
  {
   "cell_type": "code",
   "execution_count": null,
   "id": "a5d9691b-26b5-432d-adf3-d2c00d131955",
   "metadata": {
    "tags": []
   },
   "outputs": [],
   "source": [
    "grid = gridInit(21,30)\n",
    "grid = addBlinker(4,14,grid)\n",
    "#grid = addBlock(15,15,grid)\n",
    "grid = addBipole(16,4,grid)\n",
    "grid = addGlider(2,2,grid)\n",
    "for itime in range(110):\n",
    "    gridPlot(grid,itime,size=(10,5))\n",
    "    grid = gridUpdate(grid)\n",
    "    print(itime,\" \",end=\"\")"
   ]
  },
  {
   "cell_type": "markdown",
   "id": "09939151-3eef-482b-aecd-6a6f276c0ed8",
   "metadata": {},
   "source": [
    "----"
   ]
  }
 ],
 "metadata": {
  "kernelspec": {
   "display_name": "Python 3 (ipykernel)",
   "language": "python",
   "name": "python3"
  },
  "language_info": {
   "codemirror_mode": {
    "name": "ipython",
    "version": 3
   },
   "file_extension": ".py",
   "mimetype": "text/x-python",
   "name": "python",
   "nbconvert_exporter": "python",
   "pygments_lexer": "ipython3",
   "version": "3.11.3"
  }
 },
 "nbformat": 4,
 "nbformat_minor": 5
}
