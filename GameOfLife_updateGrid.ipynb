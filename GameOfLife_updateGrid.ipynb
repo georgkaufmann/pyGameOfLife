{
 "cells": [
  {
   "cell_type": "markdown",
   "id": "6f055484-ab99-4b46-ab24-7f8989399773",
   "metadata": {},
   "source": [
    "<table>\n",
    "<tr><td><img style=\"height: 150px;\" src=\"images/geo_hydro1.jpg\"></td>\n",
    "<td bgcolor=\"#FFFFFF\">\n",
    "    <p style=\"font-size: xx-large; font-weight: 900; line-height: 100%\">pyGameOfLife</p>\n",
    "    <p style=\"font-size: large; color: rgba(0,0,0,0.5);\"><b style=color:red;>Game</b>Of<b style=color:red;>Life</b></p>\n",
    "    <p style=\"font-size: large; color: rgba(0,0,0,0.5);\">Georg Kaufmann</p>\n",
    "    </td>\n",
    "<td><img style=\"height: 150px;\" src=\"images/pyGameOfLife.png\"></td>\n",
    "</tr>\n",
    "</table>\n",
    "\n",
    "----\n",
    "# `pyGameOfLife`\n",
    "\n",
    "Conway's Game of Life, the famous cellular automaton of [John Horton Conway](https://de.wikipedia.org/wiki/John_Horton_Conway) (1932-2020)."
   ]
  },
  {
   "cell_type": "code",
   "execution_count": 1,
   "id": "50bd9ae9-8364-42a7-afc3-8fc00fe6f93a",
   "metadata": {
    "tags": []
   },
   "outputs": [],
   "source": [
    "import numpy as np\n",
    "import matplotlib.pyplot as plt\n",
    "import matplotlib.colors\n",
    "import libGameOfLife"
   ]
  },
  {
   "cell_type": "markdown",
   "id": "b937272e-e866-44f6-9e86-58a3c3fde147",
   "metadata": {},
   "source": [
    "----\n",
    "## Update grid\n",
    "We now define the **update rules** for the $N$ by $M$ nodal points:\n",
    "The cell' state is:\n",
    "- **living**, if 2 or 3 neighboring cells live\n",
    "- **dead**, else ..."
   ]
  },
  {
   "cell_type": "code",
   "execution_count": 2,
   "id": "afbb055a-2732-470e-8729-c2c06a596990",
   "metadata": {
    "tags": []
   },
   "outputs": [],
   "source": [
    "def gridUpdate(grid):\n",
    "    # update 2D grid\n",
    "    N = grid.shape[0]\n",
    "    M = grid.shape[1]\n",
    "    # first, make a copy of the old grid\n",
    "    newgrid = grid.copy()\n",
    "    # then, apply Conway's rules to each cell\n",
    "    for i in range(N):\n",
    "        for j in range(M):\n",
    "            total = 0\n",
    "            # top row of neighbors\n",
    "            total += np.roll(grid,(1,1),(0,1))[i,j]   #grid[i-1,j-1]\n",
    "            total += np.roll(grid,(1,0),(0,1))[i,j]   #grid[i-1,j]\n",
    "            total += np.roll(grid,(1,-1),(0,1))[i,j]  #grid[i-1,j+1]\n",
    "            # middle row of neighbors\n",
    "            total += np.roll(grid,(0,1),(0,1))[i,j]   #grid[i,j-1]\n",
    "            total += np.roll(grid,(0,-1),(0,1))[i,j]  #grid[i,j+1]\n",
    "            # bottom row of neighbors\n",
    "            total += np.roll(grid,(-1,1),(0,1))[i,j]  #grid[i+1,j-1]\n",
    "            total += np.roll(grid,(-1,0),(0,1))[i,j]  #grid[i+1,j]\n",
    "            total += np.roll(grid,(-1,-1),(0,1))[i,j] #grid[i+1,j+1]\n",
    "            # fate of living cell\n",
    "            if grid[i,j]  == 1: \n",
    "                if (total < 2) or (total > 3): \n",
    "                    newgrid[i,j] = 0 \n",
    "            # fate of dead cell\n",
    "            else: \n",
    "                if total == 3: \n",
    "                    newgrid[i,j] = 1\n",
    "    grid[:] = newgrid[:]\n",
    "    return grid"
   ]
  },
  {
   "cell_type": "code",
   "execution_count": 9,
   "id": "a4344189-ce5c-402b-abf5-44f0224d7f92",
   "metadata": {
    "tags": []
   },
   "outputs": [
    {
     "data": {
      "image/png": "[encoded data removed]",
      "text/plain": [
       "<Figure size 640x480 with 1 Axes>"
      ]
     },
     "metadata": {},
     "output_type": "display_data"
    },
    {
     "data": {
      "image/png": "[encoded data removed]",
      "text/plain": [
       "<Figure size 640x480 with 1 Axes>"
      ]
     },
     "metadata": {},
     "output_type": "display_data"
    }
   ],
   "source": [
    "N,M = 8,8\n",
    "itime=0\n",
    "grid = libGameOfLife.gridInit(N,M)\n",
    "grid = libGameOfLife.addBlinker(2,2,grid)\n",
    "libGameOfLife.gridPlot(grid,itime,plot=True)\n",
    "grid=gridUpdate(grid)\n",
    "itime=1\n",
    "libGameOfLife.gridPlot(grid,itime,plot=True)"
   ]
  },
  {
   "cell_type": "raw",
   "id": "31c24d31-185b-47ea-874a-a6ba8c9d5f3f",
   "metadata": {
    "tags": []
   },
   "source": [
    "grid = libGameOfLife.gridInit(21,30)\n",
    "grid = libGameOfLife.addBlinker(4,14,grid)\n",
    "#grid = libGameOfLife.addBlock(15,15,grid)\n",
    "grid = libGameOfLife.addBipole(16,4,grid)\n",
    "grid = libGameOfLife.addGlider(2,2,grid)\n",
    "for itime in range(110):\n",
    "    libGameOfLife.gridPlot(grid,itime,size=(10,5))\n",
    "    grid = libGameOfLife.gridUpdate(grid)\n",
    "    print(itime,\" \",end=\"\")"
   ]
  },
  {
   "cell_type": "markdown",
   "id": "09939151-3eef-482b-aecd-6a6f276c0ed8",
   "metadata": {},
   "source": [
    "----"
   ]
  }
 ],
 "metadata": {
  "kernelspec": {
   "display_name": "Python 3 (ipykernel)",
   "language": "python",
   "name": "python3"
  },
  "language_info": {
   "codemirror_mode": {
    "name": "ipython",
    "version": 3
   },
   "file_extension": ".py",
   "mimetype": "text/x-python",
   "name": "python",
   "nbconvert_exporter": "python",
   "pygments_lexer": "ipython3",
   "version": "3.11.3"
  }
 },
 "nbformat": 4,
 "nbformat_minor": 5
}
