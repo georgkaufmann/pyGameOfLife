{
 "cells": [
  {
   "cell_type": "markdown",
   "id": "837240ef-6885-4704-a83a-7499c954861c",
   "metadata": {
    "tags": []
   },
   "source": [
    "<table>\n",
    "<tr><td><img style=\"height: 150px;\" src=\"images/geo_hydro1.jpg\"></td>\n",
    "<td bgcolor=\"#FFFFFF\">\n",
    "    <p style=\"font-size: xx-large; font-weight: 900; line-height: 100%\">pyGameOfLife</p>\n",
    "    <p style=\"font-size: large; color: rgba(0,0,0,0.5);\"><b style=color:red;>Game</b>Of<b style=color:red;>Life</b></p>\n",
    "    <p style=\"font-size: large; color: rgba(0,0,0,0.5);\">Georg Kaufmann</p>\n",
    "    </td>\n",
    "<td><img style=\"height: 150px;\" src=\"images/pyGameOfLife.png\"></td>\n",
    "</tr>\n",
    "</table>\n",
    "\n",
    "----\n",
    "# `pyGameOfLife`\n",
    "\n",
    "Conway's Game of Life, the famous cellular automaton of [John Horton Conway](https://de.wikipedia.org/wiki/John_Horton_Conway) (1932-2020)."
   ]
  },
  {
   "cell_type": "markdown",
   "id": "ada39603-fd67-49df-b8ee-0b2df8558eee",
   "metadata": {},
   "source": [
    "The [**Game of Life**](https://en.wikipedia.org/wiki/Conway%27s_Game_of_Life), \n",
    "invented by [*John Conway*](https://de.wikipedia.org/wiki/John_Horton_Conway), \n",
    "is a zero-player checkerboard game.\n",
    "On an (infinite) checkerboard, **living** and **dead** cells are distributed.\n",
    "The fate of each cell depends on\n",
    "- its own **state**\n",
    "- the number of **neighboring living** cells.\n",
    "\n",
    "Consider a cell (**green dot**). This cell has 8 neighbors, labelled 1...8.\n",
    "\n",
    "<img src=\"images/checkerboard.png\" style=\"width:15cm;\">\n",
    "\n",
    "----\n",
    "## Living cell\n",
    "If the **central cell** is living (green), then:\n",
    "- if only **one neighboring cell** lives, the central cell dies (too lonely).\n",
    "- if **two or three neighboring cells** live, the central cell remains alive.\n",
    "- if **more than three neighboring cells** live, the central cell dies (overpopulation).\n",
    "\n",
    "<img src=\"images/livingCell.png\" style=\"width:20cm;\">\n",
    "\n",
    "----\n",
    "## Dead cell\n",
    "If the **central cell** is dead (white), and:\n",
    "- **three neighboring cells** are living, the central cell is reborn again.\n",
    "- otherwise the cell remains dead.\n",
    "\n",
    "<img src=\"images/deadCell.png\" style=\"width:20cm;\">"
   ]
  },
  {
   "cell_type": "markdown",
   "id": "bc89e054-6eb4-499a-b8c1-4b8e0cef615c",
   "metadata": {},
   "source": [
    "----\n",
    "## Supplement"
   ]
  },
  {
   "cell_type": "code",
   "execution_count": 3,
   "id": "c604e9db-cf44-4845-9536-826e8e9999bb",
   "metadata": {
    "tags": []
   },
   "outputs": [],
   "source": [
    "import numpy as np\n",
    "import matplotlib.pyplot as plt"
   ]
  },
  {
   "cell_type": "code",
   "execution_count": 4,
   "id": "e7b2352b-ae16-4335-83f6-f2d7047199f1",
   "metadata": {
    "tags": []
   },
   "outputs": [
    {
     "data": {
      "image/png": "[encoded data removed]",
      "text/plain": [
       "<Figure size 600x600 with 1 Axes>"
      ]
     },
     "metadata": {},
     "output_type": "display_data"
    }
   ],
   "source": [
    "x = np.linspace(1,11,11)\n",
    "y = np.linspace(1,11,11)\n",
    "# define operator and outer cells, offset values\n",
    "operator = np.array([[1,4,4,1,1],[1,1,4,4,1]])\n",
    "outer    = np.array([[1,1,1,2,3,3,3,2],[1,2,3,3,3,2,1,1]])\n",
    "xoffset=3\n",
    "yoffset=4\n",
    "# plot\n",
    "fig,axs =plt.subplots(1,1,figsize=(6,6))\n",
    "axs.set_title('Conway\\'s Game of Life')\n",
    "axs.set_xticks(x)\n",
    "axs.set_yticks(y)\n",
    "axs.axis('equal')\n",
    "axs.set_xlim([x.min(),x.max()])\n",
    "axs.set_ylim([y.min(),y.max()])\n",
    "axs.tick_params(axis='both', left=False, top=False, right=False, bottom=False, labelleft=False, labeltop=False, labelright=False, labelbottom=False)\n",
    "axs.plot(np.add(xoffset,operator[0]),np.add(yoffset,operator[1]),lw=4,color='blue')\n",
    "axs.plot(xoffset+2.5,yoffset+2.5,lw=0,marker='o',markersize=25,color=(0,1,0))\n",
    "for i in range(1,9):\n",
    "    axs.text(np.add(xoffset+0.5,outer[0][i-1]),np.add(yoffset+0.5,outer[1][i-1]),str(i),ha='center',va='center',fontweight=\"bold\",fontsize=15)\n",
    "axs.grid(color='black')\n",
    "plt.savefig('images/checkerboard.png')"
   ]
  },
  {
   "cell_type": "markdown",
   "id": "55202b80-8c0a-4843-b9fc-90877ecf8e2f",
   "metadata": {},
   "source": [
    "----"
   ]
  }
 ],
 "metadata": {
  "kernelspec": {
   "display_name": "Python 3 (ipykernel)",
   "language": "python",
   "name": "python3"
  },
  "language_info": {
   "codemirror_mode": {
    "name": "ipython",
    "version": 3
   },
   "file_extension": ".py",
   "mimetype": "text/x-python",
   "name": "python",
   "nbconvert_exporter": "python",
   "pygments_lexer": "ipython3",
   "version": "3.11.3"
  }
 },
 "nbformat": 4,
 "nbformat_minor": 5
}
