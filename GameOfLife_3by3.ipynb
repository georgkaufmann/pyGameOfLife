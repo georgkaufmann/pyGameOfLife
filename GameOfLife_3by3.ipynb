{
 "cells": [
  {
   "cell_type": "markdown",
   "id": "6f055484-ab99-4b46-ab24-7f8989399773",
   "metadata": {},
   "source": [
    "<table>\n",
    "<tr><td><img style=\"height: 150px;\" src=\"images/geo_hydro1.jpg\"></td>\n",
    "<td bgcolor=\"#FFFFFF\">\n",
    "    <p style=\"font-size: xx-large; font-weight: 900; line-height: 100%\">pyGameOfLife</p>\n",
    "    <p style=\"font-size: large; color: rgba(0,0,0,0.5);\"><b style=color:red;>Game</b>Of<b style=color:red;>Life</b></p>\n",
    "    <p style=\"font-size: large; color: rgba(0,0,0,0.5);\">Georg Kaufmann</p>\n",
    "    </td>\n",
    "<td><img style=\"height: 150px;\" src=\"images/pyGameOfLife.png\"></td>\n",
    "</tr>\n",
    "</table>\n",
    "\n",
    "----\n",
    "# `pyGameOfLife`\n",
    "\n",
    "Conway's Game of Life, the famous cellular automaton of [John Horton Conway](https://de.wikipedia.org/wiki/John_Horton_Conway) (1932-2020)."
   ]
  },
  {
   "cell_type": "code",
   "execution_count": 1,
   "id": "50bd9ae9-8364-42a7-afc3-8fc00fe6f93a",
   "metadata": {
    "tags": []
   },
   "outputs": [],
   "source": [
    "import numpy as np\n",
    "import matplotlib.pyplot as plt\n",
    "import matplotlib.colors\n",
    "import libGameOfLife"
   ]
  },
  {
   "cell_type": "markdown",
   "id": "bae9cd83-a449-4aac-83d7-939a6285943e",
   "metadata": {},
   "source": [
    "----\n",
    "In this notebook, we create the two sequences from the previous notebook **introduction** with a fixex 3x3 grid setup\n",
    "for illustration."
   ]
  },
  {
   "cell_type": "markdown",
   "id": "b937272e-e866-44f6-9e86-58a3c3fde147",
   "metadata": {},
   "source": [
    "----\n",
    "## Initial grid\n",
    "We define **nine blocks** of a 3x3 grid in a larger 3D array `grid`.\n",
    "\n",
    "- The central cell is always a living cell, marked green.\n",
    "- Living cells in the outer cells increase from left to right, from **zero** to **eight** living cells.\n",
    "- Dead cells are marked as `0`.\n",
    "- Living cells are marked as `1`."
   ]
  },
  {
   "cell_type": "code",
   "execution_count": 2,
   "id": "1c308f97-e14c-47bb-825c-2e11ba7cfc59",
   "metadata": {
    "tags": []
   },
   "outputs": [
    {
     "name": "stdout",
     "output_type": "stream",
     "text": [
      "(9, 3, 3)\n"
     ]
    }
   ],
   "source": [
    "grid =  np.array([[[0,0,0],[0,1,0],[0,0,0]],\n",
    "                  [[1,0,0],[0,1,0],[0,0,0]],\n",
    "                  [[1,1,0],[0,1,0],[0,0,0]],\n",
    "                  [[1,1,1],[0,1,0],[0,0,0]],\n",
    "                  [[1,1,1],[1,1,0],[0,0,0]],\n",
    "                  [[1,1,1],[1,1,1],[0,0,0]],\n",
    "                  [[1,1,1],[1,1,1],[1,0,0]],\n",
    "                  [[1,1,1],[1,1,1],[1,1,0]],\n",
    "                  [[1,1,1],[1,1,1],[1,1,1]]])\n",
    "print(grid.shape)"
   ]
  },
  {
   "cell_type": "code",
   "execution_count": 3,
   "id": "09756863-c7ab-44ac-98c6-53ba1f35f260",
   "metadata": {
    "tags": []
   },
   "outputs": [
    {
     "data": {
      "image/png": "[encoded data removed]",
      "text/plain": [
       "<Figure size 1200x400 with 9 Axes>"
      ]
     },
     "metadata": {},
     "output_type": "display_data"
    }
   ],
   "source": [
    "fig,axs = plt.subplots(1,9,figsize=(12,4))\n",
    "for k in range(9):\n",
    "    axs[k].set_aspect('equal', 'box')\n",
    "    axs[k].set_xlim([-0.5,2.5]);axs[k].set_ylim([-0.5,2.5])\n",
    "    axs[k].set_xticks([]);axs[k].set_yticks([])\n",
    "    for i in range(grid.shape[1]):\n",
    "        for j in range(grid.shape[2]):\n",
    "            if (i==1 and j==1):\n",
    "                markersymbol = 'o'; markersize = 25\n",
    "            else:\n",
    "                markersymbol = 's'; markersize = 15\n",
    "            if (grid[k][i][j]==0):\n",
    "                axs[k].plot(i,j,color=(0.9,0.9,0.9),lw=0,marker=markersymbol,markersize=markersize)\n",
    "            else:\n",
    "                axs[k].plot(i,j,color=(0.0,1.0,0.0),lw=0,marker=markersymbol,markersize=markersize)"
   ]
  },
  {
   "cell_type": "markdown",
   "id": "c8152667-b9e9-4a55-8515-0387b202efe7",
   "metadata": {},
   "source": [
    "Next, we write an **update function**, implementing the rules for Conway's game of live:\n",
    "- We sum up all border cell values to `total`.\n",
    "- We then check, if a cell is living, if yes:\n",
    "    - We check for the number of neighboring cells, \n",
    "    - assign the new state `living`, if `total=2` or `total=3`\n",
    "    - assign the new state `dead`, else."
   ]
  },
  {
   "cell_type": "code",
   "execution_count": 4,
   "id": "66d2b704-31c6-4c7c-bd85-ee4f8fe1840d",
   "metadata": {
    "tags": []
   },
   "outputs": [],
   "source": [
    "def gridUpdateNoroll(grid):\n",
    "    \"\"\"\n",
    "    Conway's Game of Life\n",
    "    update function (not cyclic across boundaries)\n",
    "    input:\n",
    "     grid      - 2D grid field\n",
    "    output:\n",
    "     grid      - 2D grid field (updated)\n",
    "    use:\n",
    "     grid = libGameOfLife.gridUpdate(grid)\n",
    "    \"\"\"\n",
    "    total  = 0\n",
    "    nx = grid.shape[0]\n",
    "    ny = grid.shape[1]\n",
    "    newgrid = grid.copy()\n",
    "    for i in range(1,nx-1):\n",
    "        for j in range(1,ny-1):\n",
    "            total = 0\n",
    "            total += grid[i+1,j+1]\n",
    "            total += grid[i+1,j]\n",
    "            total += grid[i+1,j-1]         \n",
    "            total += grid[i,j+1]\n",
    "            total += grid[i,j-1]       \n",
    "            total += grid[i-1,j+1]\n",
    "            total += grid[i-1,j]\n",
    "            total += grid[i-1,j-1]\n",
    "    # fate of living cell\n",
    "    if grid[1,1]  == 1: \n",
    "        if (total < 2) or (total > 3): \n",
    "            newgrid[1,1] = 0 \n",
    "    # fate of dead cell\n",
    "    else: \n",
    "        if total == 3: \n",
    "            newgrid[1,1] = 1\n",
    "    return newgrid"
   ]
  },
  {
   "cell_type": "code",
   "execution_count": 5,
   "id": "fa54496e-0d0d-4595-9b44-e504171ed42f",
   "metadata": {
    "tags": []
   },
   "outputs": [
    {
     "name": "stdout",
     "output_type": "stream",
     "text": [
      "[[1 0 0]\n",
      " [0 1 0]\n",
      " [0 0 0]] \n",
      " [[1 0 0]\n",
      " [0 0 0]\n",
      " [0 0 0]]\n"
     ]
    }
   ],
   "source": [
    "k=1\n",
    "newgrid = gridUpdateNoroll(grid[k])\n",
    "print(grid[k],'\\n',newgrid)"
   ]
  },
  {
   "cell_type": "markdown",
   "id": "6edb7c7a-f3a5-4212-a2a4-221db1339839",
   "metadata": {},
   "source": [
    "----\n",
    "## Fate of living cell\n",
    "We apply the update function `gridUpdateNoroll` to all nine **living** cells."
   ]
  },
  {
   "cell_type": "code",
   "execution_count": 6,
   "id": "244a7403-3093-41d7-9260-afba2fb26667",
   "metadata": {
    "tags": []
   },
   "outputs": [
    {
     "data": {
      "image/png": "[encoded data removed]",
      "text/plain": [
       "<Figure size 1200x400 with 27 Axes>"
      ]
     },
     "metadata": {},
     "output_type": "display_data"
    }
   ],
   "source": [
    "fig,axs = plt.subplots(3,9,figsize=(12,4))\n",
    "for k in range(9):\n",
    "    newgrid = gridUpdateNoroll(grid[k])\n",
    "    axs[0,k].set_aspect('equal', 'box')\n",
    "    axs[0,k].set_xlim([-0.5,2.5]);axs[0,k].set_ylim([-0.5,2.5])\n",
    "    axs[0,k].set_xticks([]);axs[0,k].set_yticks([])\n",
    "    for i in range(grid.shape[1]):\n",
    "        for j in range(grid.shape[2]):\n",
    "            if (i==1 and j==1):\n",
    "                markersymbol = 'o'; markersize = 25\n",
    "            else:\n",
    "                markersymbol = 's'; markersize = 15\n",
    "            if (grid[k][i][j]==0):\n",
    "                axs[0,k].plot(i,j,color=(0.9,0.9,0.9),lw=0,marker=markersymbol,markersize=markersize)\n",
    "            else:\n",
    "                axs[0,k].plot(i,j,color=(0.0,1.0,0.0),lw=0,marker=markersymbol,markersize=markersize)\n",
    "    \n",
    "    axs[1,k].set_xlim([-1,1]);axs[1,k].set_ylim([-1,1])\n",
    "    axs[1,k].axis('off')\n",
    "    axs[1,k].arrow(0,1,0.0,-1.9,width=0.5,head_width=1.0,head_length=0.7,length_includes_head=True)\n",
    "                \n",
    "    axs[2,k].set_aspect('equal', 'box')\n",
    "    axs[2,k].set_xlim([-0.5,2.5]);axs[2,k].set_ylim([-0.5,2.5])\n",
    "    axs[2,k].set_xticks([]);axs[2,k].set_yticks([])\n",
    "    for i in range(grid.shape[1]):\n",
    "        for j in range(grid.shape[2]):\n",
    "            if (i==1 and j==1):\n",
    "                markersymbol = 'o'; markersize = 25\n",
    "            else:\n",
    "                markersymbol = 's'; markersize = 15\n",
    "            if (newgrid[i][j]==0):\n",
    "                axs[2,k].plot(i,j,color=(0.9,0.9,0.9),lw=0,marker=markersymbol,markersize=markersize)\n",
    "            else:\n",
    "                axs[2,k].plot(i,j,color=(0.0,1.0,0.0),lw=0,marker=markersymbol,markersize=markersize)\n",
    "plt.tight_layout()\n",
    "plt.savefig('images/livingCell.png')"
   ]
  },
  {
   "cell_type": "markdown",
   "id": "cefa3c8b-9d7b-4f26-8058-f3c065f9ce26",
   "metadata": {},
   "source": [
    "----\n",
    "## Fate of dead cells\n",
    "We now define **nine blocks** of a 3x3 grid in a larger 3D array `grid`, with dead cells in the center.\n",
    "\n",
    "We apply the update function `gridUpdateNoroll` to all nine living cells."
   ]
  },
  {
   "cell_type": "code",
   "execution_count": 7,
   "id": "7af605ee",
   "metadata": {
    "tags": []
   },
   "outputs": [
    {
     "name": "stdout",
     "output_type": "stream",
     "text": [
      "(9, 3, 3)\n"
     ]
    }
   ],
   "source": [
    "grid =  np.array([[[0,0,0],[0,0,0],[0,0,0]],\n",
    "                  [[1,0,0],[0,0,0],[0,0,0]],\n",
    "                  [[1,1,0],[0,0,0],[0,0,0]],\n",
    "                  [[1,1,1],[0,0,0],[0,0,0]],\n",
    "                  [[1,1,1],[1,0,0],[0,0,0]],\n",
    "                  [[1,1,1],[1,0,1],[0,0,0]],\n",
    "                  [[1,1,1],[1,0,1],[1,0,0]],\n",
    "                  [[1,1,1],[1,0,1],[1,1,0]],\n",
    "                  [[1,1,1],[1,0,1],[1,1,1]]])\n",
    "print(grid.shape)"
   ]
  },
  {
   "cell_type": "code",
   "execution_count": 8,
   "id": "433239e7",
   "metadata": {
    "tags": []
   },
   "outputs": [
    {
     "data": {
      "image/png": "[encoded data removed]",
      "text/plain": [
       "<Figure size 1200x400 with 27 Axes>"
      ]
     },
     "metadata": {},
     "output_type": "display_data"
    }
   ],
   "source": [
    "fig,axs = plt.subplots(3,9,figsize=(12,4))\n",
    "for k in range(9):\n",
    "    newgrid = gridUpdateNoroll(grid[k])\n",
    "    axs[0,k].set_aspect('equal', 'box')\n",
    "    axs[0,k].set_xlim([-0.5,2.5]);axs[0,k].set_ylim([-0.5,2.5])\n",
    "    axs[0,k].set_xticks([]);axs[0,k].set_yticks([])\n",
    "    for i in range(grid.shape[1]):\n",
    "        for j in range(grid.shape[2]):\n",
    "            if (i==1 and j==1):\n",
    "                markersymbol = 'o'; markersize = 25\n",
    "            else:\n",
    "                markersymbol = 's'; markersize = 15\n",
    "            if (grid[k][i][j]==0):\n",
    "                axs[0,k].plot(i,j,color=(0.9,0.9,0.9),lw=0,marker=markersymbol,markersize=markersize)\n",
    "            else:\n",
    "                axs[0,k].plot(i,j,color=(0.0,1.0,0.0),lw=0,marker=markersymbol,markersize=markersize)\n",
    "    \n",
    "    axs[1,k].set_xlim([-1,1]);axs[1,k].set_ylim([-1,1])\n",
    "    axs[1,k].axis('off')\n",
    "    axs[1,k].arrow(0,1,0.0,-1.9,width=0.5,head_width=1.0,head_length=0.7,length_includes_head=True)\n",
    "                \n",
    "    axs[2,k].set_aspect('equal', 'box')\n",
    "    axs[2,k].set_xlim([-0.5,2.5]);axs[2,k].set_ylim([-0.5,2.5])\n",
    "    axs[2,k].set_xticks([]);axs[2,k].set_yticks([])\n",
    "    for i in range(grid.shape[1]):\n",
    "        for j in range(grid.shape[2]):\n",
    "            if (i==1 and j==1):\n",
    "                markersymbol = 'o'; markersize = 25\n",
    "            else:\n",
    "                markersymbol = 's'; markersize = 15\n",
    "            if (newgrid[i][j]==0):\n",
    "                axs[2,k].plot(i,j,color=(0.9,0.9,0.9),lw=0,marker=markersymbol,markersize=markersize)\n",
    "            else:\n",
    "                axs[2,k].plot(i,j,color=(0.0,1.0,0.0),lw=0,marker=markersymbol,markersize=markersize)\n",
    "plt.tight_layout()\n",
    "plt.savefig('images/deadCell.png')"
   ]
  },
  {
   "cell_type": "markdown",
   "id": "09939151-3eef-482b-aecd-6a6f276c0ed8",
   "metadata": {},
   "source": [
    "----"
   ]
  }
 ],
 "metadata": {
  "kernelspec": {
   "display_name": "Python 3 (ipykernel)",
   "language": "python",
   "name": "python3"
  },
  "language_info": {
   "codemirror_mode": {
    "name": "ipython",
    "version": 3
   },
   "file_extension": ".py",
   "mimetype": "text/x-python",
   "name": "python",
   "nbconvert_exporter": "python",
   "pygments_lexer": "ipython3",
   "version": "3.11.3"
  }
 },
 "nbformat": 4,
 "nbformat_minor": 5
}
